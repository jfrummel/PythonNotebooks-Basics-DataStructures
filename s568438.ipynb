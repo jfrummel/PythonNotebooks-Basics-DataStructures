{
 "cells": [
  {
   "cell_type": "markdown",
   "id": "5fd7be5d",
   "metadata": {},
   "source": [
    "# Web Mining and Applied NLP (44-620)\n",
    "\n",
    "## Python Notebooks, Basics, and Data Structures\n",
    "\n",
    "### Student Name:  Jeremy Rummel\n",
    "### GitHub Repo : [https://github.com/jfrummel](https://github.com/jfrummel)"
   ]
  },
  {
   "cell_type": "markdown",
   "id": "9ac476d8",
   "metadata": {},
   "source": [
    "### 10. Create a new Jupyter Notebook (the name of the notebook should be your S number). Add a Markdown cell that contains your name. Add a Code cell and write Python that uses loops to draw the following pattern:\n",
    "\n",
    "```\n",
    "*      *\n",
    "**    **\n",
    "***  ***\n",
    "********\n",
    "```\n",
    "Make sure to add and submit both the new notebook and the changes to this notebook for this assignment."
   ]
  },
  {
   "cell_type": "code",
   "execution_count": 2,
   "id": "a05c5f57",
   "metadata": {},
   "outputs": [
    {
     "name": "stdout",
     "output_type": "stream",
     "text": [
      "*      *\n",
      "**    **\n",
      "***  ***\n",
      "********\n"
     ]
    }
   ],
   "source": [
    "def draw_pattern():\n",
    "    total_width = 8 \n",
    "    for i in range(1, 4):\n",
    "        # Calculate the number of stars on each side\n",
    "        num_stars_side = i\n",
    "        # Calculate the number of spaces in the middle\n",
    "        num_spaces_middle = total_width - (2 * num_stars_side)\n",
    "        \n",
    "        # Print the row: stars + spaces + stars\n",
    "        print(\"*\" * num_stars_side + \" \" * num_spaces_middle + \"*\" * num_stars_side)\n",
    "\n",
    "    # Print the last row (solid stars)\n",
    "    print(\"*\" * total_width)\n",
    "\n",
    "# Call the function to draw the pattern\n",
    "draw_pattern()\n"
   ]
  }
 ],
 "metadata": {
  "kernelspec": {
   "display_name": ".venv",
   "language": "python",
   "name": "python3"
  },
  "language_info": {
   "codemirror_mode": {
    "name": "ipython",
    "version": 3
   },
   "file_extension": ".py",
   "mimetype": "text/x-python",
   "name": "python",
   "nbconvert_exporter": "python",
   "pygments_lexer": "ipython3",
   "version": "3.13.1"
  }
 },
 "nbformat": 4,
 "nbformat_minor": 5
}
